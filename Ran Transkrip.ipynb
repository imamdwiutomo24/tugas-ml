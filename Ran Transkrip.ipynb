{
 "cells": [
  {
   "cell_type": "code",
   "execution_count": 1,
   "metadata": {},
   "outputs": [],
   "source": [
    "import pandas as pd\n",
    "import numpy as np\n",
    "import matplotlib.pyplot as plt"
   ]
  },
  {
   "cell_type": "code",
   "execution_count": 2,
   "metadata": {},
   "outputs": [
    {
     "name": "stdout",
     "output_type": "stream",
     "text": [
      "transkrip.csv\n"
     ]
    },
    {
     "data": {
      "text/html": [
       "<div>\n",
       "<style scoped>\n",
       "    .dataframe tbody tr th:only-of-type {\n",
       "        vertical-align: middle;\n",
       "    }\n",
       "\n",
       "    .dataframe tbody tr th {\n",
       "        vertical-align: top;\n",
       "    }\n",
       "\n",
       "    .dataframe thead th {\n",
       "        text-align: right;\n",
       "    }\n",
       "</style>\n",
       "<table border=\"1\" class=\"dataframe\">\n",
       "  <thead>\n",
       "    <tr style=\"text-align: right;\">\n",
       "      <th></th>\n",
       "      <th>no</th>\n",
       "      <th>kode</th>\n",
       "      <th>matkul</th>\n",
       "      <th>sks</th>\n",
       "      <th>bobot</th>\n",
       "      <th>nilai sks</th>\n",
       "      <th>nilai</th>\n",
       "    </tr>\n",
       "  </thead>\n",
       "  <tbody>\n",
       "    <tr>\n",
       "      <th>0</th>\n",
       "      <td>1</td>\n",
       "      <td>TI1668K</td>\n",
       "      <td>PRAKTIK KEAMANAN JARINGAN</td>\n",
       "      <td>1</td>\n",
       "      <td>3</td>\n",
       "      <td>3</td>\n",
       "      <td>B</td>\n",
       "    </tr>\n",
       "    <tr>\n",
       "      <th>1</th>\n",
       "      <td>2</td>\n",
       "      <td>TI1668T</td>\n",
       "      <td>KEAMANAN JARINGAN</td>\n",
       "      <td>2</td>\n",
       "      <td>4</td>\n",
       "      <td>8</td>\n",
       "      <td>A</td>\n",
       "    </tr>\n",
       "    <tr>\n",
       "      <th>2</th>\n",
       "      <td>3</td>\n",
       "      <td>TI1670P</td>\n",
       "      <td>PRAKTIKUM PEMROGRAMAN WEB LANJUT</td>\n",
       "      <td>1</td>\n",
       "      <td>2</td>\n",
       "      <td>2</td>\n",
       "      <td>C</td>\n",
       "    </tr>\n",
       "    <tr>\n",
       "      <th>3</th>\n",
       "      <td>4</td>\n",
       "      <td>TI1671K</td>\n",
       "      <td>PRAKTIK SISTEM INFORMASI GEOGRAFIS</td>\n",
       "      <td>1</td>\n",
       "      <td>4</td>\n",
       "      <td>4</td>\n",
       "      <td>A</td>\n",
       "    </tr>\n",
       "    <tr>\n",
       "      <th>4</th>\n",
       "      <td>5</td>\n",
       "      <td>TI1671T</td>\n",
       "      <td>SISTEM INFORMASI GEOGRAFIS</td>\n",
       "      <td>2</td>\n",
       "      <td>4</td>\n",
       "      <td>8</td>\n",
       "      <td>A</td>\n",
       "    </tr>\n",
       "    <tr>\n",
       "      <th>5</th>\n",
       "      <td>6</td>\n",
       "      <td>TI1673K</td>\n",
       "      <td>PRAKTIK TEKNOLOGI BASIS DATA</td>\n",
       "      <td>1</td>\n",
       "      <td>4</td>\n",
       "      <td>4</td>\n",
       "      <td>A</td>\n",
       "    </tr>\n",
       "    <tr>\n",
       "      <th>6</th>\n",
       "      <td>7</td>\n",
       "      <td>TI1670T</td>\n",
       "      <td>PEMROGRAMAN WEB LANJUT</td>\n",
       "      <td>2</td>\n",
       "      <td>3</td>\n",
       "      <td>6</td>\n",
       "      <td>B</td>\n",
       "    </tr>\n",
       "    <tr>\n",
       "      <th>7</th>\n",
       "      <td>8</td>\n",
       "      <td>TI1675K</td>\n",
       "      <td>SKRIPSI</td>\n",
       "      <td>6</td>\n",
       "      <td>4</td>\n",
       "      <td>24</td>\n",
       "      <td>A</td>\n",
       "    </tr>\n",
       "  </tbody>\n",
       "</table>\n",
       "</div>"
      ],
      "text/plain": [
       "   no     kode                              matkul  sks  bobot  nilai sks  \\\n",
       "0   1  TI1668K           PRAKTIK KEAMANAN JARINGAN    1      3          3   \n",
       "1   2  TI1668T                   KEAMANAN JARINGAN    2      4          8   \n",
       "2   3  TI1670P    PRAKTIKUM PEMROGRAMAN WEB LANJUT    1      2          2   \n",
       "3   4  TI1671K  PRAKTIK SISTEM INFORMASI GEOGRAFIS    1      4          4   \n",
       "4   5  TI1671T          SISTEM INFORMASI GEOGRAFIS    2      4          8   \n",
       "5   6  TI1673K        PRAKTIK TEKNOLOGI BASIS DATA    1      4          4   \n",
       "6   7  TI1670T              PEMROGRAMAN WEB LANJUT    2      3          6   \n",
       "7   8  TI1675K                             SKRIPSI    6      4         24   \n",
       "\n",
       "  nilai  \n",
       "0     B  \n",
       "1     A  \n",
       "2     C  \n",
       "3     A  \n",
       "4     A  \n",
       "5     A  \n",
       "6     B  \n",
       "7     A  "
      ]
     },
     "execution_count": 2,
     "metadata": {},
     "output_type": "execute_result"
    }
   ],
   "source": [
    "a=input()\n",
    "trans_df = pd.read_csv(a)\n",
    "trans_df.head(10)"
   ]
  },
  {
   "cell_type": "code",
   "execution_count": 3,
   "metadata": {},
   "outputs": [],
   "source": [
    "a=len(trans_df[trans_df['nilai'] == 'A'])\n",
    "b=len(trans_df[trans_df['nilai'] == 'B'])\n",
    "c=len(trans_df[trans_df['nilai'] == 'C'])\n",
    "d=len(trans_df[trans_df['nilai'] == 'D'])\n",
    "e=len(trans_df[trans_df['nilai'] == 'E'])\n",
    "\n",
    "jn = a+b+c+d+e\n",
    "ap = a/jn*100\n",
    "bp = b/jn*100\n",
    "cp = c/jn*100\n",
    "dp = d/jn*100\n",
    "ep = e/jn*100"
   ]
  },
  {
   "cell_type": "code",
   "execution_count": 4,
   "metadata": {},
   "outputs": [
    {
     "data": {
      "image/png": "[encoded data removed]",
      "text/plain": [
       "<Figure size 432x288 with 1 Axes>"
      ]
     },
     "metadata": {
      "needs_background": "light"
     },
     "output_type": "display_data"
    },
    {
     "name": "stdout",
     "output_type": "stream",
     "text": [
      "A : 62.5 %\n",
      "B : 25.0 %\n",
      "C : 12.5 %\n",
      "D : 0.0 %\n",
      "E : 0.0 %\n"
     ]
    }
   ],
   "source": [
    "objects = ('A', 'B', 'C', 'D', 'E')\n",
    "y_pos = np.arange(len(objects))\n",
    "performance = [a,b,c,d,e]\n",
    " \n",
    "plt.bar(y_pos, performance, align='center', alpha=0.5)\n",
    "plt.xticks(y_pos, objects)\n",
    "plt.ylabel('Jumlah Nilai')\n",
    "plt.title('Nilai')\n",
    "\n",
    "plt.show()\n",
    "print(\"A : \"+str(ap)+\" %\")\n",
    "print(\"B : \"+str(bp)+\" %\")\n",
    "print(\"C : \"+str(cp)+\" %\")\n",
    "print(\"D : \"+str(dp)+\" %\")\n",
    "print(\"E : \"+str(ep)+\" %\")"
   ]
  },
  {
   "cell_type": "code",
   "execution_count": 5,
   "metadata": {},
   "outputs": [
    {
     "data": {
      "image/png": "[encoded data removed]",
      "text/plain": [
       "<Figure size 432x288 with 1 Axes>"
      ]
     },
     "metadata": {
      "needs_background": "light"
     },
     "output_type": "display_data"
    },
    {
     "name": "stdout",
     "output_type": "stream",
     "text": [
      "Persentase\n",
      "Matakuliah Yang Lulus : 100.0\n",
      "Matakuliah Yang Tidak Lulus : 0.0\n"
     ]
    }
   ],
   "source": [
    "lulus = a+b+c\n",
    "tlulus = d+e\n",
    "jumlah = lulus+tlulus\n",
    "\n",
    "plulus=lulus/jumlah*100\n",
    "ptlulus=tlulus/jumlah*100\n",
    "\n",
    "objects = ('Lulus', 'Tidak Lulus')\n",
    "y_pos = np.arange(len(objects))\n",
    "performance = [lulus, tlulus]\n",
    " \n",
    "plt.bar(y_pos, performance, align='center', alpha=0.5)\n",
    "plt.xticks(y_pos, objects)\n",
    "plt.ylabel('Jumlah Matakuliah')\n",
    "plt.title('Kelulusan Matakuliah')\n",
    " \n",
    "plt.show()\n",
    "print(\"Persentase\")\n",
    "print(\"Matakuliah Yang Lulus : \"+str(plulus))\n",
    "print(\"Matakuliah Yang Tidak Lulus : \"+str(ptlulus))"
   ]
  },
  {
   "cell_type": "code",
   "execution_count": 6,
   "metadata": {},
   "outputs": [
    {
     "name": "stderr",
     "output_type": "stream",
     "text": [
      "/home/ian/anaconda3/lib/python3.7/site-packages/ipykernel_launcher.py:3: FutureWarning: get_value is deprecated and will be removed in a future release. Please use .at[] or .iat[] accessors instead\n",
      "  This is separate from the ipykernel package so we can avoid doing imports until\n",
      "/home/ian/anaconda3/lib/python3.7/site-packages/ipykernel_launcher.py:9: FutureWarning: get_value is deprecated and will be removed in a future release. Please use .at[] or .iat[] accessors instead\n",
      "  if __name__ == '__main__':\n"
     ]
    }
   ],
   "source": [
    "n=trans_df['kode']\n",
    "n=len(n)\n",
    "ka=trans_df.get_value(0,'kode')\n",
    "\n",
    "praktik = 0\n",
    "keterampilan = 0\n",
    "teori = 0\n",
    "for i in range (n):\n",
    "    ka=trans_df.get_value(i,'kode')\n",
    "    if ka[-1] == \"P\":\n",
    "        praktik+=1\n",
    "    elif ka[-1] == \"K\":\n",
    "        keterampilan+=1\n",
    "    elif ka[-1] == \"T\":\n",
    "        teori+=1\n",
    "\n",
    "pr=praktik/n*100\n",
    "ke=keterampilan/n*100\n",
    "te=teori/n*100"
   ]
  },
  {
   "cell_type": "code",
   "execution_count": 7,
   "metadata": {},
   "outputs": [
    {
     "name": "stdout",
     "output_type": "stream",
     "text": [
      "Persentase Jenis Matakuliah Yang Diambil\n"
     ]
    },
    {
     "data": {
      "image/png": "[encoded data removed]",
      "text/plain": [
       "<Figure size 432x288 with 1 Axes>"
      ]
     },
     "metadata": {},
     "output_type": "display_data"
    }
   ],
   "source": [
    " # Data to plot\n",
    "print('Persentase Jenis Matakuliah Yang Diambil')\n",
    "labels = 'Teori', 'Praktik', 'Keterampilan'\n",
    "sizes = [teori, praktik, keterampilan]\n",
    "colors = ['pink', 'tan', 'skyblue']\n",
    "explode = (0.01, 0.01, 0.01)  # explode 1st slice\n",
    " \n",
    "# Plot\n",
    "plt.pie(sizes, explode=explode, labels=labels, colors=colors,\n",
    "        autopct='%1.1f%%', shadow=True, startangle=140)\n",
    " \n",
    "plt.axis('equal')\n",
    "plt.show()"
   ]
  },
  {
   "cell_type": "code",
   "execution_count": 8,
   "metadata": {},
   "outputs": [
    {
     "name": "stdout",
     "output_type": "stream",
     "text": [
      "Persentase Jenis Matakuliah Yang Diambil\n"
     ]
    },
    {
     "data": {
      "image/png": "[encoded data removed]",
      "text/plain": [
       "<Figure size 432x288 with 1 Axes>"
      ]
     },
     "metadata": {},
     "output_type": "display_data"
    }
   ],
   "source": [
    "import matplotlib.pyplot as plt\n",
    "\n",
    "# The slices will be ordered and plotted counter-clockwise.\n",
    "\n",
    "print('Persentase Jenis Matakuliah Yang Diambil')\n",
    "labels = 'Teori', 'Praktik', 'Keterampilan'\n",
    "sizes = [teori, praktik, keterampilan]\n",
    "colors = ['yellowgreen', 'gold', 'lightskyblue']\n",
    "explode = (0.01, 0.01, 0.01)  # explode 1st slice\n",
    "\n",
    "\n",
    "plt.pie(sizes, explode=explode, labels=labels, colors=colors,\n",
    "        autopct='%1.1f%%', shadow=True)\n",
    "        \n",
    "#draw a circle at the center of pie to make it look like a donut\n",
    "centre_circle = plt.Circle((0,0),0.9,color='gray', fc='white',linewidth=0)\n",
    "fig = plt.gcf()\n",
    "fig.gca().add_artist(centre_circle)\n",
    "\n",
    "\n",
    "# Set aspect ratio to be equal so that pie is drawn as a circle.\n",
    "plt.axis('equal')\n",
    "plt.show()  "
   ]
  },
  {
   "cell_type": "code",
   "execution_count": 9,
   "metadata": {},
   "outputs": [
    {
     "data": {
      "text/html": [
       "<div>\n",
       "<style scoped>\n",
       "    .dataframe tbody tr th:only-of-type {\n",
       "        vertical-align: middle;\n",
       "    }\n",
       "\n",
       "    .dataframe tbody tr th {\n",
       "        vertical-align: top;\n",
       "    }\n",
       "\n",
       "    .dataframe thead th {\n",
       "        text-align: right;\n",
       "    }\n",
       "</style>\n",
       "<table border=\"1\" class=\"dataframe\">\n",
       "  <thead>\n",
       "    <tr style=\"text-align: right;\">\n",
       "      <th></th>\n",
       "      <th>no</th>\n",
       "      <th>kode</th>\n",
       "      <th>matkul</th>\n",
       "      <th>jumlah kuliah</th>\n",
       "      <th>hadir</th>\n",
       "      <th>alpha</th>\n",
       "      <th>persentasi</th>\n",
       "    </tr>\n",
       "  </thead>\n",
       "  <tbody>\n",
       "    <tr>\n",
       "      <th>0</th>\n",
       "      <td>1</td>\n",
       "      <td>TI1668K</td>\n",
       "      <td>PRAKTIK KEAMANAN JARINGAN</td>\n",
       "      <td>14</td>\n",
       "      <td>13</td>\n",
       "      <td>1</td>\n",
       "      <td>92.86</td>\n",
       "    </tr>\n",
       "    <tr>\n",
       "      <th>1</th>\n",
       "      <td>2</td>\n",
       "      <td>TI1668T</td>\n",
       "      <td>KEAMANAN JARINGAN</td>\n",
       "      <td>14</td>\n",
       "      <td>12</td>\n",
       "      <td>2</td>\n",
       "      <td>85.71</td>\n",
       "    </tr>\n",
       "    <tr>\n",
       "      <th>2</th>\n",
       "      <td>3</td>\n",
       "      <td>TI1670P</td>\n",
       "      <td>PRAKTIKUM PEMROGRAMAN WEB LANJUT</td>\n",
       "      <td>14</td>\n",
       "      <td>12</td>\n",
       "      <td>2</td>\n",
       "      <td>85.71</td>\n",
       "    </tr>\n",
       "    <tr>\n",
       "      <th>3</th>\n",
       "      <td>4</td>\n",
       "      <td>TI1671K</td>\n",
       "      <td>PRAKTIK SISTEM INFORMASI GEOGRAFIS</td>\n",
       "      <td>13</td>\n",
       "      <td>11</td>\n",
       "      <td>2</td>\n",
       "      <td>84.62</td>\n",
       "    </tr>\n",
       "    <tr>\n",
       "      <th>4</th>\n",
       "      <td>5</td>\n",
       "      <td>TI1671T</td>\n",
       "      <td>SISTEM INFORMASI GEOGRAFIS</td>\n",
       "      <td>14</td>\n",
       "      <td>13</td>\n",
       "      <td>1</td>\n",
       "      <td>92.86</td>\n",
       "    </tr>\n",
       "  </tbody>\n",
       "</table>\n",
       "</div>"
      ],
      "text/plain": [
       "   no     kode                              matkul  jumlah kuliah  hadir  \\\n",
       "0   1  TI1668K           PRAKTIK KEAMANAN JARINGAN             14     13   \n",
       "1   2  TI1668T                   KEAMANAN JARINGAN             14     12   \n",
       "2   3  TI1670P    PRAKTIKUM PEMROGRAMAN WEB LANJUT             14     12   \n",
       "3   4  TI1671K  PRAKTIK SISTEM INFORMASI GEOGRAFIS             13     11   \n",
       "4   5  TI1671T          SISTEM INFORMASI GEOGRAFIS             14     13   \n",
       "\n",
       "   alpha  persentasi  \n",
       "0      1       92.86  \n",
       "1      2       85.71  \n",
       "2      2       85.71  \n",
       "3      2       84.62  \n",
       "4      1       92.86  "
      ]
     },
     "execution_count": 9,
     "metadata": {},
     "output_type": "execute_result"
    }
   ],
   "source": [
    "presensi_df = pd.read_csv(\"presensi.csv\")\n",
    "presensi_df.head()"
   ]
  },
  {
   "cell_type": "code",
   "execution_count": 10,
   "metadata": {},
   "outputs": [],
   "source": [
    "hdr=presensi_df.hadir.sum()\n",
    "aph=presensi_df.alpha.sum()\n",
    "jl = hdr+aph"
   ]
  },
  {
   "cell_type": "code",
   "execution_count": 11,
   "metadata": {},
   "outputs": [
    {
     "name": "stdout",
     "output_type": "stream",
     "text": [
      "Presensi\n"
     ]
    },
    {
     "data": {
      "image/png": "[encoded data removed]",
      "text/plain": [
       "<Figure size 432x288 with 1 Axes>"
      ]
     },
     "metadata": {},
     "output_type": "display_data"
    }
   ],
   "source": [
    "# Data to plot\n",
    "print('Presensi')\n",
    "labels = 'Hadir', 'Alpha'\n",
    "sizes = [hdr, aph]\n",
    "colors = ['orchid', 'lightpink']\n",
    "explode = (0.2, 0.01)  # explode 1st slice\n",
    " \n",
    "# Plot\n",
    "plt.pie(sizes, explode=explode, labels=labels, colors=colors,\n",
    "        autopct='%1.3f%%', shadow=True, startangle=140)\n",
    " \n",
    "plt.axis('equal')\n",
    "plt.show()"
   ]
  },
  {
   "cell_type": "code",
   "execution_count": 12,
   "metadata": {},
   "outputs": [],
   "source": [
    "# Import LabelEncoder\n",
    "import pandas as pd"
   ]
  },
  {
   "cell_type": "code",
   "execution_count": 13,
   "metadata": {},
   "outputs": [
    {
     "data": {
      "text/html": [
       "<div>\n",
       "<style scoped>\n",
       "    .dataframe tbody tr th:only-of-type {\n",
       "        vertical-align: middle;\n",
       "    }\n",
       "\n",
       "    .dataframe tbody tr th {\n",
       "        vertical-align: top;\n",
       "    }\n",
       "\n",
       "    .dataframe thead th {\n",
       "        text-align: right;\n",
       "    }\n",
       "</style>\n",
       "<table border=\"1\" class=\"dataframe\">\n",
       "  <thead>\n",
       "    <tr style=\"text-align: right;\">\n",
       "      <th></th>\n",
       "      <th>Jenis_Kelamin</th>\n",
       "      <th>Jenis_Seleksi</th>\n",
       "      <th>Pendapatan_Wali</th>\n",
       "      <th>Pendidikan_Ibu</th>\n",
       "      <th>IP_SMT1</th>\n",
       "      <th>IP_SMT2</th>\n",
       "      <th>IP_SMT3</th>\n",
       "      <th>IP_SMT4</th>\n",
       "      <th>sks1</th>\n",
       "      <th>sks2</th>\n",
       "      <th>sks3</th>\n",
       "      <th>sks4</th>\n",
       "      <th>KET</th>\n",
       "    </tr>\n",
       "  </thead>\n",
       "  <tbody>\n",
       "    <tr>\n",
       "      <th>0</th>\n",
       "      <td>L</td>\n",
       "      <td>NUAN</td>\n",
       "      <td>3000000</td>\n",
       "      <td>SMA</td>\n",
       "      <td>3.2</td>\n",
       "      <td>3.3</td>\n",
       "      <td>3.0</td>\n",
       "      <td>3.1</td>\n",
       "      <td>21</td>\n",
       "      <td>22</td>\n",
       "      <td>21</td>\n",
       "      <td>20</td>\n",
       "      <td>T</td>\n",
       "    </tr>\n",
       "    <tr>\n",
       "      <th>1</th>\n",
       "      <td>L</td>\n",
       "      <td>MANDIRI</td>\n",
       "      <td>3000000</td>\n",
       "      <td>SMA</td>\n",
       "      <td>3.3</td>\n",
       "      <td>3.4</td>\n",
       "      <td>3.0</td>\n",
       "      <td>3.0</td>\n",
       "      <td>21</td>\n",
       "      <td>22</td>\n",
       "      <td>22</td>\n",
       "      <td>21</td>\n",
       "      <td>T</td>\n",
       "    </tr>\n",
       "    <tr>\n",
       "      <th>2</th>\n",
       "      <td>L</td>\n",
       "      <td>PRESTASI</td>\n",
       "      <td>4000000</td>\n",
       "      <td>D3</td>\n",
       "      <td>3.2</td>\n",
       "      <td>3.0</td>\n",
       "      <td>2.9</td>\n",
       "      <td>3.0</td>\n",
       "      <td>21</td>\n",
       "      <td>22</td>\n",
       "      <td>20</td>\n",
       "      <td>21</td>\n",
       "      <td>T</td>\n",
       "    </tr>\n",
       "    <tr>\n",
       "      <th>3</th>\n",
       "      <td>P</td>\n",
       "      <td>NUAN</td>\n",
       "      <td>2000000</td>\n",
       "      <td>D3</td>\n",
       "      <td>3.4</td>\n",
       "      <td>3.2</td>\n",
       "      <td>3.0</td>\n",
       "      <td>3.1</td>\n",
       "      <td>21</td>\n",
       "      <td>20</td>\n",
       "      <td>20</td>\n",
       "      <td>21</td>\n",
       "      <td>TT</td>\n",
       "    </tr>\n",
       "    <tr>\n",
       "      <th>4</th>\n",
       "      <td>P</td>\n",
       "      <td>NUAN</td>\n",
       "      <td>2500000</td>\n",
       "      <td>S1</td>\n",
       "      <td>3.5</td>\n",
       "      <td>3.3</td>\n",
       "      <td>3.2</td>\n",
       "      <td>3.0</td>\n",
       "      <td>21</td>\n",
       "      <td>21</td>\n",
       "      <td>20</td>\n",
       "      <td>22</td>\n",
       "      <td>TT</td>\n",
       "    </tr>\n",
       "    <tr>\n",
       "      <th>5</th>\n",
       "      <td>L</td>\n",
       "      <td>MANDIRI</td>\n",
       "      <td>2000000</td>\n",
       "      <td>S1</td>\n",
       "      <td>3.5</td>\n",
       "      <td>3.4</td>\n",
       "      <td>3.4</td>\n",
       "      <td>3.2</td>\n",
       "      <td>21</td>\n",
       "      <td>20</td>\n",
       "      <td>21</td>\n",
       "      <td>21</td>\n",
       "      <td>T</td>\n",
       "    </tr>\n",
       "    <tr>\n",
       "      <th>6</th>\n",
       "      <td>P</td>\n",
       "      <td>MANDIRI</td>\n",
       "      <td>3000000</td>\n",
       "      <td>SMA</td>\n",
       "      <td>3.2</td>\n",
       "      <td>3.0</td>\n",
       "      <td>3.4</td>\n",
       "      <td>3.3</td>\n",
       "      <td>21</td>\n",
       "      <td>21</td>\n",
       "      <td>21</td>\n",
       "      <td>21</td>\n",
       "      <td>TT</td>\n",
       "    </tr>\n",
       "    <tr>\n",
       "      <th>7</th>\n",
       "      <td>P</td>\n",
       "      <td>MANDIRI</td>\n",
       "      <td>2500000</td>\n",
       "      <td>SMA</td>\n",
       "      <td>2.9</td>\n",
       "      <td>3.0</td>\n",
       "      <td>3.3</td>\n",
       "      <td>3.0</td>\n",
       "      <td>21</td>\n",
       "      <td>20</td>\n",
       "      <td>21</td>\n",
       "      <td>22</td>\n",
       "      <td>TT</td>\n",
       "    </tr>\n",
       "  </tbody>\n",
       "</table>\n",
       "</div>"
      ],
      "text/plain": [
       "  Jenis_Kelamin Jenis_Seleksi  Pendapatan_Wali Pendidikan_Ibu  IP_SMT1  \\\n",
       "0             L          NUAN          3000000            SMA      3.2   \n",
       "1             L       MANDIRI          3000000            SMA      3.3   \n",
       "2             L      PRESTASI          4000000             D3      3.2   \n",
       "3             P          NUAN          2000000             D3      3.4   \n",
       "4             P          NUAN          2500000             S1      3.5   \n",
       "5             L       MANDIRI          2000000             S1      3.5   \n",
       "6             P       MANDIRI          3000000            SMA      3.2   \n",
       "7             P       MANDIRI          2500000            SMA      2.9   \n",
       "\n",
       "   IP_SMT2  IP_SMT3  IP_SMT4  sks1  sks2  sks3  sks4 KET  \n",
       "0      3.3      3.0      3.1    21    22    21    20   T  \n",
       "1      3.4      3.0      3.0    21    22    22    21   T  \n",
       "2      3.0      2.9      3.0    21    22    20    21   T  \n",
       "3      3.2      3.0      3.1    21    20    20    21  TT  \n",
       "4      3.3      3.2      3.0    21    21    20    22  TT  \n",
       "5      3.4      3.4      3.2    21    20    21    21   T  \n",
       "6      3.0      3.4      3.3    21    21    21    21  TT  \n",
       "7      3.0      3.3      3.0    21    20    21    22  TT  "
      ]
     },
     "execution_count": 13,
     "metadata": {},
     "output_type": "execute_result"
    }
   ],
   "source": [
    "data_df = pd.read_csv(\"data_training.csv\")\n",
    "data_df"
   ]
  },
  {
   "cell_type": "code",
   "execution_count": 14,
   "metadata": {},
   "outputs": [
    {
     "name": "stdout",
     "output_type": "stream",
     "text": [
      "   Jenis_Kelamin  Jenis_Seleksi  Pendapatan_Wali  Pendidikan_Ibu  IP_SMT1  \\\n",
      "0              0              0                0               0        1   \n",
      "1              0              1                0               0        2   \n",
      "2              0              2                1               1        1   \n",
      "3              1              0                3               1        3   \n",
      "4              1              0                2               2        4   \n",
      "5              0              1                3               2        4   \n",
      "6              1              1                0               0        1   \n",
      "7              1              1                2               0        0   \n",
      "\n",
      "   IP_SMT2  IP_SMT3  IP_SMT4  sks1  sks2  sks3  sks4  KET  \n",
      "0        2        1        1     0     2     1     0    0  \n",
      "1        3        1        0     0     2     2     1    0  \n",
      "2        0        0        0     0     2     0     1    0  \n",
      "3        1        1        1     0     0     0     1    1  \n",
      "4        2        2        0     0     1     0     2    1  \n",
      "5        3        4        2     0     0     1     1    0  \n",
      "6        0        4        3     0     1     1     1    1  \n",
      "7        0        3        0     0     0     1     2    1  \n"
     ]
    }
   ],
   "source": [
    "data_df = pd.read_csv(\"data_training.csv\")\n",
    "# creating a dict file \n",
    "Jenis_Kelamin = {'L': 0, 'P': 1}\n",
    "Jenis_Seleksi={'NUAN':0, 'MANDIRI':1, 'PRESTASI':2}\n",
    "Pendapatan_Wali={3000000:0, 4000000:1, 2500000:2, 2000000:3}\n",
    "Pendidikan_Ibu={'SMA':0, 'D3':1, 'S1':2}\n",
    "IP_SMT1={2.9:0, 3.2:1, 3.3:2, 3.4:3, 3.5:4}\n",
    "IP_SMT2={3.0:0, 3.2:1, 3.3:2, 3.4:3, 3.5:4}\n",
    "IP_SMT3={2.9:0, 3.0:1, 3.2:2, 3.3:3, 3.4:4}\n",
    "IP_SMT4={3.0:0, 3.1:1, 3.2:2, 3.3:3}\n",
    "sks1={21:0}\n",
    "sks2={20:0, 21:1, 22:2}\n",
    "sks3={20:0, 21:1, 22:2}\n",
    "sks4={20:0, 21:1, 22:2}\n",
    "KET={'T':0, 'TT':1}\n",
    "\n",
    "\n",
    "data_df.Jenis_Kelamin = [Jenis_Kelamin[item] for item in data_df.Jenis_Kelamin]\n",
    "data_df.Jenis_Seleksi = [Jenis_Seleksi[item] for item in data_df.Jenis_Seleksi]\n",
    "data_df.Pendapatan_Wali = [Pendapatan_Wali[item] for item in data_df.Pendapatan_Wali]\n",
    "data_df.Pendidikan_Ibu = [Pendidikan_Ibu[item] for item in data_df.Pendidikan_Ibu]\n",
    "\n",
    "data_df.IP_SMT1 = [IP_SMT1[item] for item in data_df.IP_SMT1]\n",
    "data_df.IP_SMT2 = [IP_SMT2[item] for item in data_df.IP_SMT2]\n",
    "data_df.IP_SMT3 = [IP_SMT3[item] for item in data_df.IP_SMT3]\n",
    "data_df.IP_SMT4 = [IP_SMT4[item] for item in data_df.IP_SMT4]\n",
    "\n",
    "data_df.sks1 = [sks1[item] for item in data_df.sks1]\n",
    "data_df.sks2 = [sks2[item] for item in data_df.sks2]\n",
    "data_df.sks3 = [sks3[item] for item in data_df.sks3]\n",
    "data_df.sks4 = [sks4[item] for item in data_df.sks4]\n",
    "\n",
    "data_df.KET = [KET[item] for item in data_df.KET]\n",
    "\n",
    "\n",
    "print(data_df)"
   ]
  },
  {
   "cell_type": "code",
   "execution_count": null,
   "metadata": {},
   "outputs": [],
   "source": []
  },
  {
   "cell_type": "code",
   "execution_count": 15,
   "metadata": {},
   "outputs": [
    {
     "name": "stdout",
     "output_type": "stream",
     "text": [
      "[(0, 0, 0, 0, 1, 2, 1, 1, 0, 2, 1, 0), (0, 1, 0, 0, 2, 3, 1, 0, 0, 2, 2, 1), (0, 2, 1, 1, 1, 0, 0, 0, 0, 2, 0, 1), (1, 0, 3, 1, 3, 1, 1, 1, 0, 0, 0, 1), (1, 0, 2, 2, 4, 2, 2, 0, 0, 1, 0, 2), (0, 1, 3, 2, 4, 3, 4, 2, 0, 0, 1, 1), (1, 1, 0, 0, 1, 0, 4, 3, 0, 1, 1, 1), (1, 1, 2, 0, 0, 0, 3, 0, 0, 0, 1, 2)]\n"
     ]
    }
   ],
   "source": [
    "#Combinig weather and temp into single listof tuples\n",
    "features=zip(data_df.Jenis_Kelamin, data_df.Jenis_Seleksi, data_df.Pendapatan_Wali, data_df.Pendidikan_Ibu,\n",
    "             data_df.IP_SMT1, data_df.IP_SMT2, data_df.IP_SMT3, data_df.IP_SMT4, data_df.sks1, data_df.sks2,\n",
    "             data_df.sks3, data_df.sks4)\n",
    "features = list(features)\n",
    "\n",
    "label = zip(data_df.KET)\n",
    "label = list(label)\n",
    "print (features)"
   ]
  },
  {
   "cell_type": "code",
   "execution_count": 16,
   "metadata": {},
   "outputs": [
    {
     "name": "stderr",
     "output_type": "stream",
     "text": [
      "/home/ian/anaconda3/lib/python3.7/site-packages/sklearn/utils/validation.py:761: DataConversionWarning: A column-vector y was passed when a 1d array was expected. Please change the shape of y to (n_samples, ), for example using ravel().\n",
      "  y = column_or_1d(y, warn=True)\n"
     ]
    },
    {
     "data": {
      "text/plain": [
       "GaussianNB(priors=None, var_smoothing=1e-09)"
      ]
     },
     "execution_count": 16,
     "metadata": {},
     "output_type": "execute_result"
    }
   ],
   "source": [
    "from sklearn import preprocessing\n",
    "#Import Gaussian Naive Bayes model\n",
    "from sklearn.naive_bayes import GaussianNB\n",
    "\n",
    "#Create a Gaussian Classifier\n",
    "model = GaussianNB()\n",
    "\n",
    "# Train the model using the training sets\n",
    "model.fit(features,label)\n"
   ]
  },
  {
   "cell_type": "code",
   "execution_count": 17,
   "metadata": {},
   "outputs": [
    {
     "name": "stdout",
     "output_type": "stream",
     "text": [
      "Predicted Value: [0]\n"
     ]
    }
   ],
   "source": [
    "data = pd.read_csv(\"data_test.csv\") \n",
    "\n",
    "# creating a dict file \n",
    "Jenis_Kelamin = {'L': 0, 'P': 1}\n",
    "Jenis_Seleksi={'NUAN':0, 'MANDIRI':1, 'PRESTASI':2}\n",
    "Pendapatan_Wali={3000000:0, 4000000:1, 2500000:2, 2000000:3}\n",
    "Pendidikan_Ibu={'SMA':0, 'D3':1, 'S1':2}\n",
    "IP_SMT1={2.9:0, 3.2:1, 3.3:2, 3.4:3, 3.5:4, 3.1:5}\n",
    "IP_SMT2={3.0:0, 3.2:1, 3.3:2, 3.4:3, 3.5:4}\n",
    "IP_SMT3={2.9:0, 3.0:1, 3.2:2, 3.3:3, 3.4:4}\n",
    "IP_SMT4={3.0:0, 3.1:1, 3.2:2, 3.3:3}\n",
    "sks1={21:0}\n",
    "sks2={20:0, 21:1, 22:2}\n",
    "sks3={20:0, 21:1, 22:2}\n",
    "sks4={20:0, 21:1, 22:2}\n",
    "\n",
    "data.Jenis_Kelamin = [Jenis_Kelamin[item] for item in data.Jenis_Kelamin]\n",
    "data.Jenis_Seleksi = [Jenis_Seleksi[item] for item in data.Jenis_Seleksi]\n",
    "data.Pendapatan_Wali = [Pendapatan_Wali[item] for item in data.Pendapatan_Wali]\n",
    "data.Pendidikan_Ibu = [Pendidikan_Ibu[item] for item in data.Pendidikan_Ibu]\n",
    "\n",
    "data.IP_SMT1 = [IP_SMT1[item] for item in data.IP_SMT1]\n",
    "data.IP_SMT2 = [IP_SMT2[item] for item in data.IP_SMT2]\n",
    "data.IP_SMT3 = [IP_SMT3[item] for item in data.IP_SMT3]\n",
    "data.IP_SMT4 = [IP_SMT4[item] for item in data.IP_SMT4]\n",
    "\n",
    "data.sks1 = [sks1[item] for item in data.sks1]\n",
    "data.sks2 = [sks2[item] for item in data.sks2]\n",
    "data.sks3 = [sks3[item] for item in data.sks3]\n",
    "data.sks4 = [sks4[item] for item in data.sks4]\n",
    "\n",
    "#Predict Output\n",
    "predicted= model.predict([[\n",
    "    data.Jenis_Kelamin[0],data.Jenis_Seleksi[0],data.Pendapatan_Wali[0],data.Pendidikan_Ibu[0],data.IP_SMT1[0],\n",
    "data.IP_SMT2[0],data.IP_SMT3[0],data.IP_SMT4[0],data.sks1[0],data.sks2[0],data.sks3[0],data.sks4[0]\n",
    "]])\n",
    "print (\"Predicted Value:\", predicted)"
   ]
  },
  {
   "cell_type": "code",
   "execution_count": 18,
   "metadata": {},
   "outputs": [
    {
     "name": "stdout",
     "output_type": "stream",
     "text": [
      "Hasil Prediksi : Lulus Tepat Waktu\n"
     ]
    }
   ],
   "source": [
    "if predicted == 0:\n",
    "    print(\"Hasil Prediksi : Lulus Tepat Waktu\")\n",
    "else:\n",
    "    print(\"Hasil Prediksi : Tidak Lulus Tepat Waktu\")"
   ]
  }
 ],
 "metadata": {
  "kernelspec": {
   "display_name": "Python 3",
   "language": "python",
   "name": "python3"
  },
  "language_info": {
   "codemirror_mode": {
    "name": "ipython",
    "version": 3
   },
   "file_extension": ".py",
   "mimetype": "text/x-python",
   "name": "python",
   "nbconvert_exporter": "python",
   "pygments_lexer": "ipython3",
   "version": "3.7.3"
  }
 },
 "nbformat": 4,
 "nbformat_minor": 2
}
